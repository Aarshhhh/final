{
 "cells": [
  {
   "cell_type": "markdown",
   "id": "648a55d9-8534-47dd-89b5-17b590c45f2a",
   "metadata": {},
   "source": [
    "# Notebook"
   ]
  },
  {
   "cell_type": "markdown",
   "id": "ee8e61ad-ffee-4c12-b33a-f12b6cfe0dad",
   "metadata": {},
   "source": [
    "*hello my name is aarsh maurya i am 3rd yr student of electronics and intrumentation engineering and i am so much interested to learn about neural networks*"
   ]
  },
  {
   "cell_type": "markdown",
   "id": "06835c2a-adf1-46d3-b321-6ed45313129a",
   "metadata": {},
   "source": [
    "data science languages:-\n",
    "+ python\n",
    "+ R\n",
    "+ SQL\n",
    "+ scala\n",
    "+ java etc."
   ]
  },
  {
   "cell_type": "markdown",
   "id": "411a53f9-2262-4987-a70c-8a68886c46d2",
   "metadata": {},
   "source": [
    "1.for python\n",
    "+ panda\n",
    "+ numpy\n",
    "+ seaborn\n",
    "\n",
    "2.for R\n",
    "+ ggplot\n",
    "\n",
    "3.for scala\n",
    "+ vegas\n",
    "+ big dl"
   ]
  },
  {
   "cell_type": "markdown",
   "id": "c578af68-6641-40bb-90aa-1a31f1807027",
   "metadata": {},
   "source": [
    "|data managment|data visualisation|data trans. and intr.|code asset manag.|data asset manag.|develop env.|execution evn.|model deployment|model monitoring and assesment|\n",
    "|--------------|:-----------------|:--------------------|:-----|:-----|:--------|:-----|:-|-:|\n",
    "|hadoop|hue|apache airflow|github|apache atlas|jupyter notebook|apache spark|prediction io|prometheus\n",
    "|mySQl|kibana|apache katka|gitlab|   |jupyter labs| | |Model DB\n",
    "|MONGODB|apache superset|"
   ]
  },
  {
   "cell_type": "code",
   "execution_count": 12,
   "id": "1815eb7e-e7af-41b0-90da-b0d9a71ee276",
   "metadata": {},
   "outputs": [
    {
     "data": {
      "text/plain": [
       "44"
      ]
     },
     "execution_count": 12,
     "metadata": {},
     "output_type": "execute_result"
    }
   ],
   "source": [
    "20+3*8"
   ]
  },
  {
   "cell_type": "code",
   "execution_count": 13,
   "id": "f320c2af-f5f9-4d23-bad7-5c23ad68a460",
   "metadata": {},
   "outputs": [
    {
     "name": "stdout",
     "output_type": "stream",
     "text": [
      "263\n"
     ]
    }
   ],
   "source": [
    "print(209+6*9)"
   ]
  },
  {
   "cell_type": "code",
   "execution_count": 11,
   "id": "3b85f821-2aae-48dd-aaa1-ea7d3db104ba",
   "metadata": {},
   "outputs": [
    {
     "name": "stdin",
     "output_type": "stream",
     "text": [
      "Enter the hours: 2\n",
      "Enter the minutes: 6\n"
     ]
    },
    {
     "name": "stdout",
     "output_type": "stream",
     "text": [
      "Total Minutes= 126\n"
     ]
    }
   ],
   "source": [
    "def convert_time(hrs, min):\n",
    "    min= hrs*60+min\n",
    "    return min\n",
    "h=int(input(\"Enter the hours:\"))\n",
    "m=int(input(\"Enter the minutes:\"))\n",
    "m=convert_time(h,m)\n",
    "print(\"Total Minutes=\",m)"
   ]
  },
  {
   "cell_type": "markdown",
   "id": "87839b90-f406-49b9-843a-9f1471518cac",
   "metadata": {},
   "source": [
    "> Author\n",
    "\n",
    " **Aarsh maurya**"
   ]
  },
  {
   "cell_type": "markdown",
   "id": "70bd928c-2e2c-4063-89f0-016062f628d6",
   "metadata": {},
   "source": [
    "**objective list**\n",
    "1. one\n",
    "3. fenjh\n",
    "6. fdeew\n",
    "7. ewffew\n",
    "4. fnioij\n",
    "+ 45\n",
    "+ fewe\n",
    "+ regrh\n",
    "+ reger\n",
    "10. weoiuyn"
   ]
  },
  {
   "cell_type": "code",
   "execution_count": null,
   "id": "ff04b2ea-06b2-4539-a5ef-5343442b7a3e",
   "metadata": {},
   "outputs": [],
   "source": []
  }
 ],
 "metadata": {
  "kernelspec": {
   "display_name": "Python 3 (ipykernel)",
   "language": "python",
   "name": "python3"
  },
  "language_info": {
   "codemirror_mode": {
    "name": "ipython",
    "version": 3
   },
   "file_extension": ".py",
   "mimetype": "text/x-python",
   "name": "python",
   "nbconvert_exporter": "python",
   "pygments_lexer": "ipython3",
   "version": "3.9.13"
  }
 },
 "nbformat": 4,
 "nbformat_minor": 5
}
